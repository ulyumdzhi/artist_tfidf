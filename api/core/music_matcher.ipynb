{
 "cells": [
  {
   "cell_type": "code",
   "execution_count": 4,
   "id": "852af85f",
   "metadata": {},
   "outputs": [],
   "source": [
    "import os\n",
    "import re\n",
    "\n",
    "import pandas as pd\n",
    "import nltk\n",
    "from nltk.tokenize import RegexpTokenizer\n",
    "from nltk.stem import WordNetLemmatizer\n",
    "from nltk.corpus import stopwords"
   ]
  },
  {
   "cell_type": "code",
   "execution_count": 111,
   "id": "ef6fe760",
   "metadata": {},
   "outputs": [
    {
     "name": "stderr",
     "output_type": "stream",
     "text": [
      "[nltk_data] Downloading package wordnet to\n",
      "[nltk_data]     /Users/ulyumdzhi/nltk_data...\n",
      "[nltk_data]   Package wordnet is already up-to-date!\n"
     ]
    },
    {
     "data": {
      "text/plain": [
       "True"
      ]
     },
     "execution_count": 111,
     "metadata": {},
     "output_type": "execute_result"
    }
   ],
   "source": [
    "# nltk.download('stopwords')\n",
    "nltk.download('wordnet')"
   ]
  },
  {
   "cell_type": "code",
   "execution_count": 11,
   "id": "ce8276a2",
   "metadata": {},
   "outputs": [],
   "source": [
    "from dotenv import load_dotenv\n",
    "import lyricsgenius as lg\n",
    "\n",
    "load_dotenv()\n",
    "API_TOKEN = os.getenv('GEN_TOKEN')\n",
    "\n",
    "def name_checker(name):\n",
    "    # if name not in names:\n",
    "    try:\n",
    "        genius = lg.Genius(API_TOKEN,skip_non_songs=True, remove_section_headers=True)\n",
    "        response = (genius.search_artist(name, max_songs=1, sort='popularity'))\n",
    "        true_name = response.name\n",
    "        return true_name  \n",
    "    except:\n",
    "        return name\n",
    "    # return name"
   ]
  },
  {
   "cell_type": "code",
   "execution_count": 27,
   "id": "2aaf7d8b",
   "metadata": {},
   "outputs": [],
   "source": [
    "def clean_lemm_general(text_general):\n",
    "    \n",
    "    def clean(text):\n",
    "        import re\n",
    "        text_clean_pre = text.lower() # приводим все символы к нижнему регистру\n",
    "        text_clean_pre = re.sub(r'\\d+',' ', text_clean_pre) # удаляем все числа \n",
    "        text_clean_pre = re.sub(r'[^\\w\\s]','', text_clean_pre) # удаляем все знаки препинания\n",
    "        text_clean_pre = re.sub(r'http\\S+', ' ', text_clean_pre)\n",
    "        text_clean_pre = re.sub(r'@\\w+',' ',text_clean_pre)\n",
    "        text_clean_pre = re.sub(r'#\\w+', ' ', text_clean_pre)\n",
    "        return text_clean_pre\n",
    "    \n",
    "    def nltk_stop_words(tokenized_text):\n",
    "        clean_stop_words = [] \n",
    "        for element in enumerate(tokenized_text):\n",
    "            clean_stop_words.append(' '.join([word for word in element if word not in sw]))\n",
    "        return clean_stop_words\n",
    "    \n",
    "    text_clean_gen = [clean(i) for i in text_general.split()]\n",
    "    text_lem = WordNetLemmatizer()\n",
    "    lem_text = []\n",
    "    for words in text_clean_gen:\n",
    "        lem_text.append(' '.join([text_lem.lemmatize(word) for word in words.split()]))\n",
    "    \n",
    "    \n",
    "    return ' '.join(lem_text)"
   ]
  },
  {
   "cell_type": "code",
   "execution_count": 28,
   "id": "2babb014",
   "metadata": {},
   "outputs": [
    {
     "name": "stdout",
     "output_type": "stream",
     "text": [
      ".DS_Store\n"
     ]
    }
   ],
   "source": [
    "text_dict = {}\n",
    "for i in os.listdir('../data'):\n",
    "    try:\n",
    "        with open(f'../data/{i}', encoding='utf-8', newline='') as f:\n",
    "            artist_text = f.read()\n",
    "            text_dict[i[:-4]] = clean_lemm_general(artist_text)\n",
    "    except:\n",
    "        print(i)  \n",
    "        \n",
    "len(text_dict)"
   ]
  },
  {
   "cell_type": "code",
   "execution_count": 104,
   "id": "663f72c8",
   "metadata": {},
   "outputs": [],
   "source": [
    "from sklearn.feature_extraction.text import TfidfVectorizer\n",
    "from sklearn.metrics.pairwise import pairwise_distances\n",
    "\n",
    "tfidf = TfidfVectorizer(ngram_range=(1, 4))\n",
    "tfidf_representation = tfidf.fit_transform(text_dict.values())\n",
    "artists_similarity = 1 - pairwise_distances(tfidf_representation, metric=\"cosine\")"
   ]
  },
  {
   "cell_type": "code",
   "execution_count": 112,
   "id": "d406285e",
   "metadata": {},
   "outputs": [],
   "source": [
    "dict_of_artist_similarity = dict(zip(text_dict.keys(), artists_similarity))"
   ]
  },
  {
   "cell_type": "code",
   "execution_count": 113,
   "id": "e9cff2bd",
   "metadata": {},
   "outputs": [],
   "source": [
    "df = pd.DataFrame(dict_of_artist_similarity, index=text_dict.keys())"
   ]
  },
  {
   "cell_type": "code",
   "execution_count": 110,
   "id": "ba995ae1",
   "metadata": {},
   "outputs": [
    {
     "data": {
      "text/plain": [
       "Eminem                  0.244019\n",
       "NEFFEX                  0.173702\n",
       "Hollywood Undead        0.172948\n",
       "Nickelback              0.167084\n",
       "STARSET                 0.165498\n",
       "Disturbed               0.154073\n",
       "Flo Rida                0.148894\n",
       "Bring Me The Horizon    0.147752\n",
       "Mike Shinoda            0.144651\n",
       "Name: grandson, dtype: float64"
      ]
     },
     "execution_count": 110,
     "metadata": {},
     "output_type": "execute_result"
    }
   ],
   "source": [
    "df['grandson'].sort_values(ascending=False).head(10)[1:]"
   ]
  },
  {
   "cell_type": "code",
   "execution_count": null,
   "id": "0f5c71cc",
   "metadata": {},
   "outputs": [],
   "source": []
  },
  {
   "cell_type": "code",
   "execution_count": null,
   "id": "d0a8c788",
   "metadata": {},
   "outputs": [],
   "source": []
  },
  {
   "cell_type": "code",
   "execution_count": null,
   "id": "89d415c5",
   "metadata": {},
   "outputs": [],
   "source": []
  },
  {
   "cell_type": "code",
   "execution_count": null,
   "id": "e69f79e0",
   "metadata": {},
   "outputs": [],
   "source": []
  }
 ],
 "metadata": {
  "interpreter": {
   "hash": "ce538921e6be760a39ee639a7a0681082190f93ff63d21578f6e40cf39307f74"
  },
  "kernelspec": {
   "display_name": "Python 3.9.5 64-bit ('miniforge3': virtualenv)",
   "language": "python",
   "name": "python39564bitminiforge3virtualenvcb5212bc86d84636b43dc571341bede0"
  },
  "language_info": {
   "codemirror_mode": {
    "name": "ipython",
    "version": 3
   },
   "file_extension": ".py",
   "mimetype": "text/x-python",
   "name": "python",
   "nbconvert_exporter": "python",
   "pygments_lexer": "ipython3",
   "version": "3.9.5"
  },
  "toc": {
   "base_numbering": 1,
   "nav_menu": {},
   "number_sections": true,
   "sideBar": true,
   "skip_h1_title": false,
   "title_cell": "Table of Contents",
   "title_sidebar": "Contents",
   "toc_cell": false,
   "toc_position": {},
   "toc_section_display": true,
   "toc_window_display": false
  }
 },
 "nbformat": 4,
 "nbformat_minor": 5
}
